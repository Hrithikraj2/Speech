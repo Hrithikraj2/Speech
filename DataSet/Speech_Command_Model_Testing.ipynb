{
  "nbformat": 4,
  "nbformat_minor": 0,
  "metadata": {
    "colab": {
      "name": "Speech_Command_Model_Testing.ipynb",
      "provenance": [],
      "collapsed_sections": []
    },
    "kernelspec": {
      "name": "python3",
      "display_name": "Python 3"
    },
    "accelerator": "GPU"
  },
  "cells": [
    {
      "cell_type": "markdown",
      "metadata": {
        "id": "XDJi6Y2twxI0",
        "colab_type": "text"
      },
      "source": [
        "#**Mount drive to Google Colab**"
      ]
    },
    {
      "cell_type": "code",
      "metadata": {
        "id": "JKkT--AqbLsc",
        "colab_type": "code",
        "colab": {
          "base_uri": "https://localhost:8080/",
          "height": 34
        },
        "outputId": "d89bd3af-d969-4694-aa34-91b6d6398893"
      },
      "source": [
        "from google.colab import drive\n",
        "drive.mount('/content/gdrive')"
      ],
      "execution_count": null,
      "outputs": [
        {
          "output_type": "stream",
          "text": [
            "Drive already mounted at /content/gdrive; to attempt to forcibly remount, call drive.mount(\"/content/gdrive\", force_remount=True).\n"
          ],
          "name": "stdout"
        }
      ]
    },
    {
      "cell_type": "markdown",
      "metadata": {
        "id": "NxKyCe3Ls4ul",
        "colab_type": "text"
      },
      "source": [
        "#**Requirements**"
      ]
    },
    {
      "cell_type": "code",
      "metadata": {
        "id": "lH7m7xG_bYME",
        "colab_type": "code",
        "colab": {
          "base_uri": "https://localhost:8080/",
          "height": 860
        },
        "outputId": "37fe39fe-4e3d-4351-8c90-4524cb578ff6"
      },
      "source": [
        "%pip install kapre==0.1.7\n",
        "%pip install soundfile"
      ],
      "execution_count": null,
      "outputs": [
        {
          "output_type": "stream",
          "text": [
            "Requirement already satisfied: kapre==0.1.7 in /usr/local/lib/python3.6/dist-packages (0.1.7)\n",
            "Requirement already satisfied: librosa>=0.5 in /usr/local/lib/python3.6/dist-packages (from kapre==0.1.7) (0.6.3)\n",
            "Requirement already satisfied: tensorflow>=1.15 in /usr/local/lib/python3.6/dist-packages (from kapre==0.1.7) (2.3.0)\n",
            "Requirement already satisfied: numpy>=1.8.0 in /usr/local/lib/python3.6/dist-packages (from kapre==0.1.7) (1.18.5)\n",
            "Requirement already satisfied: joblib>=0.12 in /usr/local/lib/python3.6/dist-packages (from librosa>=0.5->kapre==0.1.7) (0.16.0)\n",
            "Requirement already satisfied: six>=1.3 in /usr/local/lib/python3.6/dist-packages (from librosa>=0.5->kapre==0.1.7) (1.15.0)\n",
            "Requirement already satisfied: scikit-learn!=0.19.0,>=0.14.0 in /usr/local/lib/python3.6/dist-packages (from librosa>=0.5->kapre==0.1.7) (0.22.2.post1)\n",
            "Requirement already satisfied: scipy>=1.0.0 in /usr/local/lib/python3.6/dist-packages (from librosa>=0.5->kapre==0.1.7) (1.4.1)\n",
            "Requirement already satisfied: resampy>=0.2.0 in /usr/local/lib/python3.6/dist-packages (from librosa>=0.5->kapre==0.1.7) (0.2.2)\n",
            "Requirement already satisfied: decorator>=3.0.0 in /usr/local/lib/python3.6/dist-packages (from librosa>=0.5->kapre==0.1.7) (4.4.2)\n",
            "Requirement already satisfied: audioread>=2.0.0 in /usr/local/lib/python3.6/dist-packages (from librosa>=0.5->kapre==0.1.7) (2.1.8)\n",
            "Requirement already satisfied: numba>=0.38.0 in /usr/local/lib/python3.6/dist-packages (from librosa>=0.5->kapre==0.1.7) (0.48.0)\n",
            "Requirement already satisfied: protobuf>=3.9.2 in /usr/local/lib/python3.6/dist-packages (from tensorflow>=1.15->kapre==0.1.7) (3.12.4)\n",
            "Requirement already satisfied: h5py<2.11.0,>=2.10.0 in /usr/local/lib/python3.6/dist-packages (from tensorflow>=1.15->kapre==0.1.7) (2.10.0)\n",
            "Requirement already satisfied: tensorboard<3,>=2.3.0 in /usr/local/lib/python3.6/dist-packages (from tensorflow>=1.15->kapre==0.1.7) (2.3.0)\n",
            "Requirement already satisfied: tensorflow-estimator<2.4.0,>=2.3.0 in /usr/local/lib/python3.6/dist-packages (from tensorflow>=1.15->kapre==0.1.7) (2.3.0)\n",
            "Requirement already satisfied: grpcio>=1.8.6 in /usr/local/lib/python3.6/dist-packages (from tensorflow>=1.15->kapre==0.1.7) (1.31.0)\n",
            "Requirement already satisfied: opt-einsum>=2.3.2 in /usr/local/lib/python3.6/dist-packages (from tensorflow>=1.15->kapre==0.1.7) (3.3.0)\n",
            "Requirement already satisfied: astunparse==1.6.3 in /usr/local/lib/python3.6/dist-packages (from tensorflow>=1.15->kapre==0.1.7) (1.6.3)\n",
            "Requirement already satisfied: wheel>=0.26 in /usr/local/lib/python3.6/dist-packages (from tensorflow>=1.15->kapre==0.1.7) (0.35.1)\n",
            "Requirement already satisfied: wrapt>=1.11.1 in /usr/local/lib/python3.6/dist-packages (from tensorflow>=1.15->kapre==0.1.7) (1.12.1)\n",
            "Requirement already satisfied: keras-preprocessing<1.2,>=1.1.1 in /usr/local/lib/python3.6/dist-packages (from tensorflow>=1.15->kapre==0.1.7) (1.1.2)\n",
            "Requirement already satisfied: google-pasta>=0.1.8 in /usr/local/lib/python3.6/dist-packages (from tensorflow>=1.15->kapre==0.1.7) (0.2.0)\n",
            "Requirement already satisfied: absl-py>=0.7.0 in /usr/local/lib/python3.6/dist-packages (from tensorflow>=1.15->kapre==0.1.7) (0.8.1)\n",
            "Requirement already satisfied: termcolor>=1.1.0 in /usr/local/lib/python3.6/dist-packages (from tensorflow>=1.15->kapre==0.1.7) (1.1.0)\n",
            "Requirement already satisfied: gast==0.3.3 in /usr/local/lib/python3.6/dist-packages (from tensorflow>=1.15->kapre==0.1.7) (0.3.3)\n",
            "Requirement already satisfied: setuptools in /usr/local/lib/python3.6/dist-packages (from numba>=0.38.0->librosa>=0.5->kapre==0.1.7) (49.6.0)\n",
            "Requirement already satisfied: llvmlite<0.32.0,>=0.31.0dev0 in /usr/local/lib/python3.6/dist-packages (from numba>=0.38.0->librosa>=0.5->kapre==0.1.7) (0.31.0)\n",
            "Requirement already satisfied: google-auth<2,>=1.6.3 in /usr/local/lib/python3.6/dist-packages (from tensorboard<3,>=2.3.0->tensorflow>=1.15->kapre==0.1.7) (1.17.2)\n",
            "Requirement already satisfied: werkzeug>=0.11.15 in /usr/local/lib/python3.6/dist-packages (from tensorboard<3,>=2.3.0->tensorflow>=1.15->kapre==0.1.7) (1.0.1)\n",
            "Requirement already satisfied: google-auth-oauthlib<0.5,>=0.4.1 in /usr/local/lib/python3.6/dist-packages (from tensorboard<3,>=2.3.0->tensorflow>=1.15->kapre==0.1.7) (0.4.1)\n",
            "Requirement already satisfied: requests<3,>=2.21.0 in /usr/local/lib/python3.6/dist-packages (from tensorboard<3,>=2.3.0->tensorflow>=1.15->kapre==0.1.7) (2.23.0)\n",
            "Requirement already satisfied: markdown>=2.6.8 in /usr/local/lib/python3.6/dist-packages (from tensorboard<3,>=2.3.0->tensorflow>=1.15->kapre==0.1.7) (3.2.2)\n",
            "Requirement already satisfied: tensorboard-plugin-wit>=1.6.0 in /usr/local/lib/python3.6/dist-packages (from tensorboard<3,>=2.3.0->tensorflow>=1.15->kapre==0.1.7) (1.7.0)\n",
            "Requirement already satisfied: pyasn1-modules>=0.2.1 in /usr/local/lib/python3.6/dist-packages (from google-auth<2,>=1.6.3->tensorboard<3,>=2.3.0->tensorflow>=1.15->kapre==0.1.7) (0.2.8)\n",
            "Requirement already satisfied: rsa<5,>=3.1.4; python_version >= \"3\" in /usr/local/lib/python3.6/dist-packages (from google-auth<2,>=1.6.3->tensorboard<3,>=2.3.0->tensorflow>=1.15->kapre==0.1.7) (4.6)\n",
            "Requirement already satisfied: cachetools<5.0,>=2.0.0 in /usr/local/lib/python3.6/dist-packages (from google-auth<2,>=1.6.3->tensorboard<3,>=2.3.0->tensorflow>=1.15->kapre==0.1.7) (4.1.1)\n",
            "Requirement already satisfied: requests-oauthlib>=0.7.0 in /usr/local/lib/python3.6/dist-packages (from google-auth-oauthlib<0.5,>=0.4.1->tensorboard<3,>=2.3.0->tensorflow>=1.15->kapre==0.1.7) (1.3.0)\n",
            "Requirement already satisfied: urllib3!=1.25.0,!=1.25.1,<1.26,>=1.21.1 in /usr/local/lib/python3.6/dist-packages (from requests<3,>=2.21.0->tensorboard<3,>=2.3.0->tensorflow>=1.15->kapre==0.1.7) (1.24.3)\n",
            "Requirement already satisfied: chardet<4,>=3.0.2 in /usr/local/lib/python3.6/dist-packages (from requests<3,>=2.21.0->tensorboard<3,>=2.3.0->tensorflow>=1.15->kapre==0.1.7) (3.0.4)\n",
            "Requirement already satisfied: certifi>=2017.4.17 in /usr/local/lib/python3.6/dist-packages (from requests<3,>=2.21.0->tensorboard<3,>=2.3.0->tensorflow>=1.15->kapre==0.1.7) (2020.6.20)\n",
            "Requirement already satisfied: idna<3,>=2.5 in /usr/local/lib/python3.6/dist-packages (from requests<3,>=2.21.0->tensorboard<3,>=2.3.0->tensorflow>=1.15->kapre==0.1.7) (2.10)\n",
            "Requirement already satisfied: importlib-metadata; python_version < \"3.8\" in /usr/local/lib/python3.6/dist-packages (from markdown>=2.6.8->tensorboard<3,>=2.3.0->tensorflow>=1.15->kapre==0.1.7) (1.7.0)\n",
            "Requirement already satisfied: pyasn1<0.5.0,>=0.4.6 in /usr/local/lib/python3.6/dist-packages (from pyasn1-modules>=0.2.1->google-auth<2,>=1.6.3->tensorboard<3,>=2.3.0->tensorflow>=1.15->kapre==0.1.7) (0.4.8)\n",
            "Requirement already satisfied: oauthlib>=3.0.0 in /usr/local/lib/python3.6/dist-packages (from requests-oauthlib>=0.7.0->google-auth-oauthlib<0.5,>=0.4.1->tensorboard<3,>=2.3.0->tensorflow>=1.15->kapre==0.1.7) (3.1.0)\n",
            "Requirement already satisfied: zipp>=0.5 in /usr/local/lib/python3.6/dist-packages (from importlib-metadata; python_version < \"3.8\"->markdown>=2.6.8->tensorboard<3,>=2.3.0->tensorflow>=1.15->kapre==0.1.7) (3.1.0)\n",
            "Requirement already satisfied: soundfile in /usr/local/lib/python3.6/dist-packages (0.10.3.post1)\n",
            "Requirement already satisfied: cffi>=1.0 in /usr/local/lib/python3.6/dist-packages (from soundfile) (1.14.2)\n",
            "Requirement already satisfied: pycparser in /usr/local/lib/python3.6/dist-packages (from cffi>=1.0->soundfile) (2.20)\n"
          ],
          "name": "stdout"
        }
      ]
    },
    {
      "cell_type": "code",
      "metadata": {
        "id": "-0_0A0mBbpbg",
        "colab_type": "code",
        "colab": {}
      },
      "source": [
        "import os\n",
        "import numpy as np\n",
        "import kapre\n",
        "import librosa\n",
        "import random\n",
        "import tensorflow as tf\n",
        "import soundfile as sf\n",
        "from tensorflow.keras import layers as L\n",
        "from tensorflow.keras.models import Sequential,Model\n",
        "from kapre.time_frequency import Melspectrogram\n",
        "from kapre.utils import Normalization2D\n",
        "from tensorflow.keras import backend as K\n",
        "from sklearn.model_selection import train_test_split"
      ],
      "execution_count": null,
      "outputs": []
    },
    {
      "cell_type": "markdown",
      "metadata": {
        "id": "TDZnD1xitOi8",
        "colab_type": "text"
      },
      "source": [
        "#**Data** **Generation**"
      ]
    },
    {
      "cell_type": "code",
      "metadata": {
        "id": "PWMD9YHibvjh",
        "colab_type": "code",
        "colab": {
          "base_uri": "https://localhost:8080/",
          "height": 101
        },
        "outputId": "f79c06c0-8c2d-4b6d-9d83-aa52e401d0e4"
      },
      "source": [
        "#Change the path of the directory accordingly\n",
        "data_dir = '/content/gdrive/My Drive/Colab Notebooks/MyData/Hrithik/'\n",
        "os.chdir(data_dir)\n",
        "data_x = []\n",
        "data_y = []\n",
        "for a,i in enumerate(['forward','back','left','right','stop']):\n",
        "    lis = os.listdir(data_dir+i)\n",
        "    for j in lis:\n",
        "        l,sr = sf.read(data_dir+i+'/'+j)\n",
        "        #if(len(l)==16000):\n",
        "        data_x.append(l[0:8000])\n",
        "        data_y.append(a)\n",
        "        #else:\n",
        "           # print(i)\n",
        "    print(i,\" Done\")\n",
        "\n",
        "data_x = np.array(data_x)\n",
        "data_y = np.array(data_y)\n",
        "np.save('x.npy',data_x)\n",
        "np.save('y.npy',data_y)"
      ],
      "execution_count": null,
      "outputs": [
        {
          "output_type": "stream",
          "text": [
            "forward  Done\n",
            "back  Done\n",
            "left  Done\n",
            "right  Done\n",
            "stop  Done\n"
          ],
          "name": "stdout"
        }
      ]
    },
    {
      "cell_type": "markdown",
      "metadata": {
        "id": "z26PXuRBt75Q",
        "colab_type": "text"
      },
      "source": [
        "#**Train Data set and Test Data Set**"
      ]
    },
    {
      "cell_type": "code",
      "metadata": {
        "id": "DdLiF7Jzb6bP",
        "colab_type": "code",
        "colab": {}
      },
      "source": [
        "import numpy as np\n",
        "np_load = np.load\n",
        "\n",
        "np.load = lambda *a,**k: np_load(*a, allow_pickle=True, **k)\n",
        "\n",
        "\n",
        "data_x = np.load('x.npy')\n",
        "data_y = np.load('y.npy')\n",
        "from sklearn.model_selection import train_test_split\n",
        "tr_x,te_x, tr_y,te_y = train_test_split(data_x,data_y,stratify=data_y,random_state=123,test_size=0.2)\n",
        "np.load = np_load"
      ],
      "execution_count": null,
      "outputs": []
    },
    {
      "cell_type": "code",
      "metadata": {
        "id": "aU5YyGgsdbQv",
        "colab_type": "code",
        "colab": {}
      },
      "source": [
        "x_train = []\n",
        "y_train = []\n",
        "for i,j in enumerate(tr_x):\n",
        "    x= len(j)\n",
        "    p = 25000-x\n",
        "    for y in range(1 ,p, 500):\n",
        "        nx = np.zeros(25000)\n",
        "        nx[y:y+x] =j\n",
        "        x_train.append(nx)\n",
        "        y_train.append(tr_y[i])\n",
        "x_train = np.array(x_train)\n",
        "y_train = np.array(y_train)\n",
        "\n",
        "x_test = []\n",
        "y_test = []\n",
        "for i,j in enumerate(te_x):\n",
        "    x= len(j)\n",
        "    p = 25000-x\n",
        "    for y in range(1 ,p, 500):\n",
        "        nx = np.zeros(25000)\n",
        "        nx[y:y+x] =j\n",
        "        x_test.append(nx)\n",
        "        y_test.append(te_y[i])\n",
        "x_test = np.array(x_test)\n",
        "y_test = np.array(y_test)\n",
        "\n",
        "np.save('x_train.npy',x_train)\n",
        "np.save('y_train.npy',y_train)\n",
        "np.save('x_test.npy',x_test)\n",
        "np.save('y_test.npy',y_test)"
      ],
      "execution_count": null,
      "outputs": []
    },
    {
      "cell_type": "markdown",
      "metadata": {
        "id": "uqmAL-gvuNY2",
        "colab_type": "text"
      },
      "source": [
        "#**MFCC Feature Extraction**"
      ]
    },
    {
      "cell_type": "code",
      "metadata": {
        "id": "Omj03mN6de7V",
        "colab_type": "code",
        "colab": {
          "base_uri": "https://localhost:8080/",
          "height": 54
        },
        "outputId": "97f42a12-ada4-4e48-86aa-fecb82d57ada"
      },
      "source": [
        "mfcc = Sequential()\n",
        "mfcc.add(L.Reshape((1, -1)))\n",
        "mfcc.add(Melspectrogram(padding='same', sr=16000, n_mels=39, n_dft = 1024,\n",
        "                        power_melgram=2.0, return_decibel_melgram=True,\n",
        "                        trainable_fb=False, trainable_kernel=False,\n",
        "                        name='mel_stft'))\n",
        "mfcc.add(Normalization2D(str_axis='freq'))\n",
        "mfcc.add(L.Permute((2, 1, 3)))\n",
        "\n",
        "x_train = mfcc.predict(x_train)\n",
        "x_train.shape\n",
        "\n",
        "x_test = mfcc.predict(x_test)\n",
        "x_test.shape\n",
        "\n",
        "np.save('mfcc_train.npy',x_train)\n",
        "np.save('mfcc_test.npy',x_test)"
      ],
      "execution_count": null,
      "outputs": [
        {
          "output_type": "stream",
          "text": [
            "WARNING:tensorflow:7 out of the last 12 calls to <function Model.make_predict_function.<locals>.predict_function at 0x7f2554ea8400> triggered tf.function retracing. Tracing is expensive and the excessive number of tracings could be due to (1) creating @tf.function repeatedly in a loop, (2) passing tensors with different shapes, (3) passing Python objects instead of tensors. For (1), please define your @tf.function outside of the loop. For (2), @tf.function has experimental_relax_shapes=True option that relaxes argument shapes that can avoid unnecessary retracing. For (3), please refer to https://www.tensorflow.org/tutorials/customization/performance#python_or_tensor_args and https://www.tensorflow.org/api_docs/python/tf/function for  more details.\n"
          ],
          "name": "stdout"
        }
      ]
    },
    {
      "cell_type": "markdown",
      "metadata": {
        "id": "OcdPZEw0uhKH",
        "colab_type": "text"
      },
      "source": [
        "#**Loading Data**"
      ]
    },
    {
      "cell_type": "code",
      "metadata": {
        "id": "CEY-Q__kdj0E",
        "colab_type": "code",
        "colab": {}
      },
      "source": [
        "data_dir = '/content/gdrive/My Drive/Colab Notebooks/MyData/Hrithik/'\n",
        "#os.chdir(data_dir)\n",
        "x_train = np.load(data_dir+'mfcc_train.npy')\n",
        "y_train = np.load(data_dir+'y_train.npy')\n",
        "x_test = np.load(data_dir+'mfcc_test.npy')\n",
        "y_test = np.load(data_dir+'y_test.npy')"
      ],
      "execution_count": null,
      "outputs": []
    },
    {
      "cell_type": "markdown",
      "metadata": {
        "id": "t0pJJtj0u4Nw",
        "colab_type": "text"
      },
      "source": [
        "#**Model**"
      ]
    },
    {
      "cell_type": "code",
      "metadata": {
        "id": "IE9MuNMFdruz",
        "colab_type": "code",
        "colab": {}
      },
      "source": [
        "#https://github.com/douglas125/SpeechCmdRecognition/blob/master/SpeechModels.py\n",
        "os.environ['PYTHONHASHSEED']='123'\n",
        "np.random.seed(123)\n",
        "random.seed(123)\n",
        "tf.random.set_seed(123)\n",
        "\n",
        "def AttentionModel(sr=16000, iLen=25000):\n",
        "    \n",
        "    inputs = L.Input(x_train.shape[1:], name='Input')\n",
        "\n",
        "    x = L.Conv2D(10, (5, 1), activation='relu', padding='same', name='Conv1')(inputs)\n",
        "    x = L.BatchNormalization(name='BN1')(x)\n",
        "    x = L.Conv2D(1, (5, 1), activation='relu', padding='same', name='Conv2')(x)\n",
        "    x = L.BatchNormalization(name='BN2')(x)\n",
        "\n",
        "    x = L.Reshape(x.shape[1:-1],name='Squeeze')(x)\n",
        "\n",
        "    n_units = 64\n",
        "    x = L.LSTM(n_units, return_sequences=True, name='LSTM_Sequences')(x)  \n",
        "\n",
        "    # Calculate Unit Importance\n",
        "    xLast = L.Lambda(lambda q: q[:, -1], name='FinalSequence')(x)  # [b_s, vec_dim]\n",
        "    xLast = L.Dense(xLast.shape[-1], name='UnitImportance')(xLast)\n",
        "\n",
        "    # Calculate attention\n",
        "    attScores = L.Dot(axes=[1, 2],name='AttentionScores')([xLast, x])\n",
        "    attScores = L.Softmax(name='AttentionSoftmax')(attScores)  \n",
        "\n",
        "    x = L.Dot(axes=[1, 1], name='AttentionVector')([attScores, x])  \n",
        "    x = L.Dense(32, activation='relu', name='FC')(x)\n",
        "    outputs = L.Dense(5, activation='softmax', name='Output')(x)\n",
        "    model = Model(inputs=[inputs], outputs=[outputs], name='Attention')\n",
        "\n",
        "    return model\n",
        "\n",
        "model = AttentionModel()\n",
        "model.compile(optimizer=tf.keras.optimizers.Adam(), loss=['sparse_categorical_crossentropy'], metrics=['sparse_categorical_accuracy'])"
      ],
      "execution_count": null,
      "outputs": []
    },
    {
      "cell_type": "code",
      "metadata": {
        "id": "i-5aIHQAdyAD",
        "colab_type": "code",
        "colab": {
          "base_uri": "https://localhost:8080/",
          "height": 655
        },
        "outputId": "126a0fdc-86cf-4f77-fb4e-3c28f7de8bf2"
      },
      "source": [
        "model.summary()"
      ],
      "execution_count": null,
      "outputs": [
        {
          "output_type": "stream",
          "text": [
            "Model: \"Attention\"\n",
            "__________________________________________________________________________________________________\n",
            "Layer (type)                    Output Shape         Param #     Connected to                     \n",
            "==================================================================================================\n",
            "Input (InputLayer)              [(None, 49, 39, 1)]  0                                            \n",
            "__________________________________________________________________________________________________\n",
            "Conv1 (Conv2D)                  (None, 49, 39, 10)   60          Input[0][0]                      \n",
            "__________________________________________________________________________________________________\n",
            "BN1 (BatchNormalization)        (None, 49, 39, 10)   40          Conv1[0][0]                      \n",
            "__________________________________________________________________________________________________\n",
            "Conv2 (Conv2D)                  (None, 49, 39, 1)    51          BN1[0][0]                        \n",
            "__________________________________________________________________________________________________\n",
            "BN2 (BatchNormalization)        (None, 49, 39, 1)    4           Conv2[0][0]                      \n",
            "__________________________________________________________________________________________________\n",
            "Squeeze (Reshape)               (None, 49, 39)       0           BN2[0][0]                        \n",
            "__________________________________________________________________________________________________\n",
            "LSTM_Sequences (LSTM)           (None, 49, 64)       26624       Squeeze[0][0]                    \n",
            "__________________________________________________________________________________________________\n",
            "FinalSequence (Lambda)          (None, 64)           0           LSTM_Sequences[0][0]             \n",
            "__________________________________________________________________________________________________\n",
            "UnitImportance (Dense)          (None, 64)           4160        FinalSequence[0][0]              \n",
            "__________________________________________________________________________________________________\n",
            "AttentionScores (Dot)           (None, 49)           0           UnitImportance[0][0]             \n",
            "                                                                 LSTM_Sequences[0][0]             \n",
            "__________________________________________________________________________________________________\n",
            "AttentionSoftmax (Softmax)      (None, 49)           0           AttentionScores[0][0]            \n",
            "__________________________________________________________________________________________________\n",
            "AttentionVector (Dot)           (None, 64)           0           AttentionSoftmax[0][0]           \n",
            "                                                                 LSTM_Sequences[0][0]             \n",
            "__________________________________________________________________________________________________\n",
            "FC (Dense)                      (None, 32)           2080        AttentionVector[0][0]            \n",
            "__________________________________________________________________________________________________\n",
            "Output (Dense)                  (None, 5)            165         FC[0][0]                         \n",
            "==================================================================================================\n",
            "Total params: 33,184\n",
            "Trainable params: 33,162\n",
            "Non-trainable params: 22\n",
            "__________________________________________________________________________________________________\n"
          ],
          "name": "stdout"
        }
      ]
    },
    {
      "cell_type": "markdown",
      "metadata": {
        "id": "pAwlHNpku_Rw",
        "colab_type": "text"
      },
      "source": [
        "#**Train Model**"
      ]
    },
    {
      "cell_type": "code",
      "metadata": {
        "id": "mxgcWIhMd1g2",
        "colab_type": "code",
        "colab": {
          "base_uri": "https://localhost:8080/",
          "height": 370
        },
        "outputId": "6739dfa0-abc0-4bb1-a80f-61fbe1837ad2"
      },
      "source": [
        "model.fit(x_train,y_train,validation_data=(x_test,y_test),verbose=2,epochs=10,shuffle=True,batch_size=20)\n"
      ],
      "execution_count": null,
      "outputs": [
        {
          "output_type": "stream",
          "text": [
            "Epoch 1/10\n",
            "544/544 - 10s - loss: 0.2660 - sparse_categorical_accuracy: 0.8948 - val_loss: 0.0086 - val_sparse_categorical_accuracy: 0.9989\n",
            "Epoch 2/10\n",
            "544/544 - 9s - loss: 0.0056 - sparse_categorical_accuracy: 0.9990 - val_loss: 0.0012 - val_sparse_categorical_accuracy: 1.0000\n",
            "Epoch 3/10\n",
            "544/544 - 9s - loss: 0.0013 - sparse_categorical_accuracy: 0.9997 - val_loss: 0.9027 - val_sparse_categorical_accuracy: 0.6474\n",
            "Epoch 4/10\n",
            "544/544 - 9s - loss: 0.0066 - sparse_categorical_accuracy: 0.9981 - val_loss: 0.0020 - val_sparse_categorical_accuracy: 1.0000\n",
            "Epoch 5/10\n",
            "544/544 - 9s - loss: 2.6593e-04 - sparse_categorical_accuracy: 1.0000 - val_loss: 0.0024 - val_sparse_categorical_accuracy: 0.9993\n",
            "Epoch 6/10\n",
            "544/544 - 9s - loss: 9.4885e-05 - sparse_categorical_accuracy: 1.0000 - val_loss: 0.0020 - val_sparse_categorical_accuracy: 0.9996\n",
            "Epoch 7/10\n",
            "544/544 - 9s - loss: 5.9825e-05 - sparse_categorical_accuracy: 1.0000 - val_loss: 0.0016 - val_sparse_categorical_accuracy: 1.0000\n",
            "Epoch 8/10\n",
            "544/544 - 9s - loss: 3.7790e-05 - sparse_categorical_accuracy: 1.0000 - val_loss: 0.0014 - val_sparse_categorical_accuracy: 1.0000\n",
            "Epoch 9/10\n",
            "544/544 - 9s - loss: 2.6801e-05 - sparse_categorical_accuracy: 1.0000 - val_loss: 9.0136e-04 - val_sparse_categorical_accuracy: 1.0000\n",
            "Epoch 10/10\n",
            "544/544 - 9s - loss: 1.8674e-05 - sparse_categorical_accuracy: 1.0000 - val_loss: 7.3493e-04 - val_sparse_categorical_accuracy: 1.0000\n"
          ],
          "name": "stdout"
        },
        {
          "output_type": "execute_result",
          "data": {
            "text/plain": [
              "<tensorflow.python.keras.callbacks.History at 0x7f2578f89b38>"
            ]
          },
          "metadata": {
            "tags": []
          },
          "execution_count": 53
        }
      ]
    },
    {
      "cell_type": "markdown",
      "metadata": {
        "id": "rl0gHmP7zhu5",
        "colab_type": "text"
      },
      "source": [
        "#**Check Attention**"
      ]
    },
    {
      "cell_type": "code",
      "metadata": {
        "id": "8EtqYLhed6_n",
        "colab_type": "code",
        "colab": {
          "base_uri": "https://localhost:8080/",
          "height": 1000
        },
        "outputId": "1bf3f858-6970-4fef-eb8c-95320aaed3ba"
      },
      "source": [
        "from matplotlib import pyplot as plt\n",
        "model2 = Model(inputs=model.input, outputs=[model.get_layer('Output').output, \n",
        "                                            model.get_layer('AttentionSoftmax').output])\n",
        "data_dir = '/content/gdrive/My Drive/Colab Notebooks/MyData/Hrithik/'\n",
        "\n",
        "a,b = model2.predict(x_test)\n",
        "xx_test = np.load(data_dir+'x_test.npy')\n",
        "for aid in range(0,100,18):\n",
        "    plt.plot(range(len(b[aid])), np.log(b[aid]))\n",
        "    plt.show()\n",
        "    plt.plot(range(len(xx_test[aid])),xx_test[aid])\n",
        "    plt.show()"
      ],
      "execution_count": null,
      "outputs": [
        {
          "output_type": "display_data",
          "data": {
            "image/png": "[encoded data removed]",
            "text/plain": [
              "<Figure size 432x288 with 1 Axes>"
            ]
          },
          "metadata": {
            "tags": [],
            "needs_background": "light"
          }
        },
        {
          "output_type": "display_data",
          "data": {
            "image/png": "[encoded data removed]",
            "text/plain": [
              "<Figure size 432x288 with 1 Axes>"
            ]
          },
          "metadata": {
            "tags": [],
            "needs_background": "light"
          }
        },
        {
          "output_type": "display_data",
          "data": {
            "image/png": "[encoded data removed]",
            "text/plain": [
              "<Figure size 432x288 with 1 Axes>"
            ]
          },
          "metadata": {
            "tags": [],
            "needs_background": "light"
          }
        },
        {
          "output_type": "display_data",
          "data": {
            "image/png": "[encoded data removed]",
            "text/plain": [
              "<Figure size 432x288 with 1 Axes>"
            ]
          },
          "metadata": {
            "tags": [],
            "needs_background": "light"
          }
        },
        {
          "output_type": "display_data",
          "data": {
            "image/png": "[encoded data removed]",
            "text/plain": [
              "<Figure size 432x288 with 1 Axes>"
            ]
          },
          "metadata": {
            "tags": [],
            "needs_background": "light"
          }
        },
        {
          "output_type": "display_data",
          "data": {
            "image/png": "[encoded data removed]",
            "text/plain": [
              "<Figure size 432x288 with 1 Axes>"
            ]
          },
          "metadata": {
            "tags": [],
            "needs_background": "light"
          }
        },
        {
          "output_type": "display_data",
          "data": {
            "image/png": "[encoded data removed]",
            "text/plain": [
              "<Figure size 432x288 with 1 Axes>"
            ]
          },
          "metadata": {
            "tags": [],
            "needs_background": "light"
          }
        },
        {
          "output_type": "display_data",
          "data": {
            "image/png": "[encoded data removed]",
            "text/plain": [
              "<Figure size 432x288 with 1 Axes>"
            ]
          },
          "metadata": {
            "tags": [],
            "needs_background": "light"
          }
        },
        {
          "output_type": "display_data",
          "data": {
            "image/png": "[encoded data removed]",
            "text/plain": [
              "<Figure size 432x288 with 1 Axes>"
            ]
          },
          "metadata": {
            "tags": [],
            "needs_background": "light"
          }
        },
        {
          "output_type": "display_data",
          "data": {
            "image/png": "[encoded data removed]",
            "text/plain": [
              "<Figure size 432x288 with 1 Axes>"
            ]
          },
          "metadata": {
            "tags": [],
            "needs_background": "light"
          }
        },
        {
          "output_type": "display_data",
          "data": {
            "image/png": "[encoded data removed]",
            "text/plain": [
              "<Figure size 432x288 with 1 Axes>"
            ]
          },
          "metadata": {
            "tags": [],
            "needs_background": "light"
          }
        },
        {
          "output_type": "display_data",
          "data": {
            "image/png": "[encoded data removed]",
            "text/plain": [
              "<Figure size 432x288 with 1 Axes>"
            ]
          },
          "metadata": {
            "tags": [],
            "needs_background": "light"
          }
        }
      ]
    },
    {
      "cell_type": "markdown",
      "metadata": {
        "id": "sNXWVjIPBGTs",
        "colab_type": "text"
      },
      "source": [
        "## **Save Model**"
      ]
    },
    {
      "cell_type": "code",
      "metadata": {
        "id": "Z9JZR_FjeE3A",
        "colab_type": "code",
        "colab": {
          "base_uri": "https://localhost:8080/",
          "height": 34
        },
        "outputId": "cd4fadda-5093-47e8-b46e-85318e03e2c4"
      },
      "source": [
        "data_dir = '/content/gdrive/My Drive/Colab Notebooks/MyData/Hrithik/'\n",
        "os.chdir(data_dir)\n",
        "model.save('model.h3')"
      ],
      "execution_count": null,
      "outputs": [
        {
          "output_type": "stream",
          "text": [
            "INFO:tensorflow:Assets written to: model.h3/assets\n"
          ],
          "name": "stdout"
        }
      ]
    },
    {
      "cell_type": "code",
      "metadata": {
        "id": "aNvu5CxXTsgN",
        "colab_type": "code",
        "colab": {
          "base_uri": "https://localhost:8080/",
          "height": 50
        },
        "outputId": "39b2a790-f942-4b87-e6ad-5d839807fa84"
      },
      "source": [
        "%pip install ffmpeg-python "
      ],
      "execution_count": null,
      "outputs": [
        {
          "output_type": "stream",
          "text": [
            "Requirement already satisfied: ffmpeg-python in /usr/local/lib/python3.6/dist-packages (0.2.0)\n",
            "Requirement already satisfied: future in /usr/local/lib/python3.6/dist-packages (from ffmpeg-python) (0.16.0)\n"
          ],
          "name": "stdout"
        }
      ]
    },
    {
      "cell_type": "code",
      "metadata": {
        "id": "Gri_QgiFUrWQ",
        "colab_type": "code",
        "colab": {}
      },
      "source": [
        "from IPython.display import Javascript\n",
        "from google.colab import output\n",
        "from base64 import b64decode\n",
        "import ffmpeg\n",
        "\n",
        "RECORD = \"\"\"\n",
        "const sleep  = time => new Promise(resolve => setTimeout(resolve, time))\n",
        "const b2text = blob => new Promise(resolve => {\n",
        "  const reader = new FileReader()\n",
        "  reader.onloadend = e => resolve(e.srcElement.result)\n",
        "  reader.readAsDataURL(blob)\n",
        "})\n",
        "var record = time => new Promise(async resolve => {\n",
        "  stream = await navigator.mediaDevices.getUserMedia({ audio: true })\n",
        "  recorder = new MediaRecorder(stream)\n",
        "  chunks = []\n",
        "  recorder.ondataavailable = e => chunks.push(e.data)\n",
        "  recorder.start()\n",
        "  await sleep(time)\n",
        "  recorder.onstop = async ()=>{\n",
        "    blob = new Blob(chunks)\n",
        "    text = await b2text(blob)\n",
        "    resolve(text)\n",
        "  }\n",
        "  recorder.stop()\n",
        "})\n",
        "\"\"\"\n",
        " \n",
        "def record(sec=1, path='audio.wav'):\n",
        "  display(Javascript(RECORD))\n",
        "  s = output.eval_js('record(%d)' % (sec*1000))\n",
        "  b = b64decode(s.split(',')[1])\n",
        "  process = (ffmpeg\n",
        "    .input('pipe:0')\n",
        "    .output(path, format='wav', ac=1, ar=16000)\n",
        "    .run_async(pipe_stdin=True, pipe_stdout=True, pipe_stderr=True, quiet=True, overwrite_output=True)\n",
        "  )\n",
        "  process.communicate(input=b)"
      ],
      "execution_count": null,
      "outputs": []
    },
    {
      "cell_type": "markdown",
      "metadata": {
        "id": "wyK2UNiCBNuE",
        "colab_type": "text"
      },
      "source": [
        "## **Model Testing**\n",
        "\n",
        "### Run the below cell and when you start to see the red button (microphone) blinking in the title bar.\n",
        "### Utter the words forward, right, left, back, stop.\n",
        "### The model recognizes the words accordingly."
      ]
    },
    {
      "cell_type": "code",
      "metadata": {
        "id": "Ok1-UvLWVGZE",
        "colab_type": "code",
        "colab": {
          "base_uri": "https://localhost:8080/",
          "height": 34
        },
        "outputId": "92a205ff-5385-4abd-ca62-2a5020893b2b"
      },
      "source": [
        "from tensorflow import keras\n",
        "import soundfile as sf\n",
        "import numpy as np\n",
        " \n",
        "Rpath = '/content/gdrive/My Drive/Colab Notebooks/MyData/Hrithik/'\n",
        "model = keras.models.load_model(Rpath + '/model.h3')\n",
        "record(path=Rpath + '/testfile.wav')\n",
        "l = sf.read(Rpath + '/testfile.wav')[0]\n",
        "l = l[0:8000]\n",
        "x = len(l)\n",
        "p = 25000-x\n",
        "nx = np.zeros(25000)\n",
        "for y in range(1 ,p, 500):\n",
        "    nx[y:y+x] = l\n",
        "nx = nx.reshape([1, len(nx)])\n",
        " \n",
        "nx = mfcc.predict(nx)\n",
        " \n",
        "y = model.predict(nx)[0]\n",
        "y = np.argmax(y)\n",
        "words = ['forward','back', 'left', 'right', 'stop']\n",
        "print (words [y])"
      ],
      "execution_count": null,
      "outputs": [
        {
          "output_type": "display_data",
          "data": {
            "application/javascript": [
              "\n",
              "const sleep  = time => new Promise(resolve => setTimeout(resolve, time))\n",
              "const b2text = blob => new Promise(resolve => {\n",
              "  const reader = new FileReader()\n",
              "  reader.onloadend = e => resolve(e.srcElement.result)\n",
              "  reader.readAsDataURL(blob)\n",
              "})\n",
              "var record = time => new Promise(async resolve => {\n",
              "  stream = await navigator.mediaDevices.getUserMedia({ audio: true })\n",
              "  recorder = new MediaRecorder(stream)\n",
              "  chunks = []\n",
              "  recorder.ondataavailable = e => chunks.push(e.data)\n",
              "  recorder.start()\n",
              "  await sleep(time)\n",
              "  recorder.onstop = async ()=>{\n",
              "    blob = new Blob(chunks)\n",
              "    text = await b2text(blob)\n",
              "    resolve(text)\n",
              "  }\n",
              "  recorder.stop()\n",
              "})\n"
            ],
            "text/plain": [
              "<IPython.core.display.Javascript object>"
            ]
          },
          "metadata": {
            "tags": []
          }
        },
        {
          "output_type": "stream",
          "text": [
            "left\n"
          ],
          "name": "stdout"
        }
      ]
    }
  ]
}